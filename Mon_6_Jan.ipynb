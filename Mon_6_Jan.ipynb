{
  "nbformat": 4,
  "nbformat_minor": 0,
  "metadata": {
    "colab": {
      "provenance": []
    },
    "kernelspec": {
      "name": "python3",
      "display_name": "Python 3"
    },
    "language_info": {
      "name": "python"
    }
  },
  "cells": [
    {
      "cell_type": "code",
      "execution_count": null,
      "metadata": {
        "colab": {
          "base_uri": "https://localhost:8080/"
        },
        "id": "h976A_bQFl2E",
        "outputId": "5b06ca6b-3ffd-4d35-80ab-05774f58db74"
      },
      "outputs": [
        {
          "output_type": "stream",
          "name": "stdout",
          "text": [
            "Original List: [1, 'hello', 3.14, True]\n",
            "List after appending 'world': [1, 'hello', 3.14, True, 'world']\n",
            "List after removing 3.14: [1, 'hello', True, 'world']\n"
          ]
        }
      ],
      "source": [
        "#Demo for list\n",
        "my_list = [1, 'hello', 3.14, True]\n",
        "print(\"Original List:\", my_list)\n",
        "\n",
        "# Add an element to the end of the list\n",
        "my_list.append('world')\n",
        "print(\"List after appending 'world':\", my_list)\n",
        "\n",
        "#Removing an element from the list\n",
        "my_list.remove(3.14)\n",
        "print(\"List after removing 3.14:\", my_list)"
      ]
    },
    {
      "cell_type": "code",
      "source": [
        "#Demo for Tuple\n",
        "my_tuple = (1, 'orange', 3.14, True)\n",
        "print(\"Original Tuple:\", my_tuple)\n",
        "\n",
        "#Accessing elements in the tuple\n",
        "print(\"First element:\", my_tuple[0])\n",
        "print(\"Third element:\", my_tuple[-1])"
      ],
      "metadata": {
        "colab": {
          "base_uri": "https://localhost:8080/"
        },
        "id": "5Swu-LA3G2fs",
        "outputId": "b3cc4f15-aac7-4c53-a814-426b42235f42"
      },
      "execution_count": null,
      "outputs": [
        {
          "output_type": "stream",
          "name": "stdout",
          "text": [
            "Original Tuple: (1, 'orange', 3.14, True)\n",
            "First element: 1\n",
            "Third element: True\n"
          ]
        }
      ]
    },
    {
      "cell_type": "code",
      "source": [
        "#For loop to print numbers 1 to 5\n",
        "for i in range(1, 6):\n",
        "    print(i)\n"
      ],
      "metadata": {
        "colab": {
          "base_uri": "https://localhost:8080/"
        },
        "id": "4a1Ci_9zHtcg",
        "outputId": "5df56a27-87b8-4d1a-8ed7-c6dfcf3be44c"
      },
      "execution_count": null,
      "outputs": [
        {
          "output_type": "stream",
          "name": "stdout",
          "text": [
            "1\n",
            "2\n",
            "3\n",
            "4\n",
            "5\n"
          ]
        }
      ]
    },
    {
      "cell_type": "code",
      "source": [
        "# while loop to print numbers 1 to 5\n",
        "i = 1\n",
        "while i <= 5:\n",
        "    print(i)\n",
        "    i += 1"
      ],
      "metadata": {
        "colab": {
          "base_uri": "https://localhost:8080/"
        },
        "id": "32exMwLxI0ua",
        "outputId": "d0e062a0-f2ee-4e90-9a59-14bc35f1e7ab"
      },
      "execution_count": null,
      "outputs": [
        {
          "output_type": "stream",
          "name": "stdout",
          "text": [
            "1\n",
            "2\n",
            "3\n",
            "4\n",
            "5\n"
          ]
        }
      ]
    },
    {
      "cell_type": "code",
      "source": [
        "from os import NGROUPS_MAX\n",
        "# if condition to check if a number is positive\n",
        "number = int(input(\"Enter a number: \"))\n",
        "if number > 0:\n",
        "    print(\"The number is positive.\")\n",
        "elif number < 0:\n",
        "    print(\"The number is negative.\")\n",
        "else:\n",
        "    print(\"The number is zero.\")"
      ],
      "metadata": {
        "colab": {
          "base_uri": "https://localhost:8080/"
        },
        "id": "9axfWbhjJLVu",
        "outputId": "1a181c63-c5a3-4403-f515-c840c72164aa"
      },
      "execution_count": null,
      "outputs": [
        {
          "output_type": "stream",
          "name": "stdout",
          "text": [
            "Enter a number: 5\n",
            "The number is positive.\n"
          ]
        }
      ]
    },
    {
      "cell_type": "code",
      "source": [
        "def greet(name):\n",
        "    print(\"Hello, \" + name + \"!\")\n",
        "greet(\"Alice\")"
      ],
      "metadata": {
        "colab": {
          "base_uri": "https://localhost:8080/"
        },
        "id": "NF_e4HWhP4vr",
        "outputId": "7b6de400-de96-49a7-adf3-b533f0c89741"
      },
      "execution_count": null,
      "outputs": [
        {
          "output_type": "stream",
          "name": "stdout",
          "text": [
            "Hello, Alice!\n"
          ]
        }
      ]
    }
  ]
}